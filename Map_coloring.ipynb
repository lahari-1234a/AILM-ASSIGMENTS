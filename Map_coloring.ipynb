{
  "nbformat": 4,
  "nbformat_minor": 0,
  "metadata": {
    "colab": {
      "provenance": []
    },
    "kernelspec": {
      "name": "python3",
      "display_name": "Python 3"
    },
    "language_info": {
      "name": "python"
    }
  },
  "cells": [
    {
      "cell_type": "code",
      "execution_count": null,
      "metadata": {
        "colab": {
          "base_uri": "https://localhost:8080/"
        },
        "id": "y6CDioZDOPHw",
        "outputId": "c62f54cd-c5bb-4a38-c82b-5c6448d957e9"
      },
      "outputs": [
        {
          "output_type": "stream",
          "name": "stdout",
          "text": [
            "Solution exists: \n",
            "Node 0: Color 0\n",
            "Node 1: Color 1\n",
            "Node 2: Color 2\n",
            "Node 3: Color 1\n",
            "Node 4: Color 0\n"
          ]
        }
      ],
      "source": [
        "class MapColoring:\n",
        "    def __init__(self, num_colors, adjacency_matrix):\n",
        "        self.num_colors = num_colors\n",
        "        self.adjacency_matrix = adjacency_matrix\n",
        "        self.num_nodes = len(adjacency_matrix)\n",
        "        self.colors = [-1] * self.num_nodes\n",
        "\n",
        "    def is_valid(self, node, color):\n",
        "        for neighbor in range(self.num_nodes):\n",
        "            if self.adjacency_matrix[node][neighbor] == 1 and self.colors[neighbor] == color:\n",
        "                return False\n",
        "        return True\n",
        "\n",
        "    def solve(self):\n",
        "        if self.color_map(0):\n",
        "            return self.colors\n",
        "        else:\n",
        "            return None\n",
        "\n",
        "    def color_map(self, node):\n",
        "        if node == self.num_nodes:\n",
        "            return True\n",
        "\n",
        "        for color in range(self.num_colors):\n",
        "            if self.is_valid(node, color):\n",
        "                self.colors[node] = color\n",
        "                if self.color_map(node + 1):\n",
        "                    return True\n",
        "                self.colors[node] = -1  # Backtrack\n",
        "\n",
        "        return False\n",
        "\n",
        "def print_solution(colors):\n",
        "    if colors is None:\n",
        "        print(\"No solution exists\")\n",
        "    else:\n",
        "        print(\"Solution exists: \")\n",
        "        for idx, color in enumerate(colors):\n",
        "            print(f\"Node {idx}: Color {color}\")\n",
        "\n",
        "# Example usage\n",
        "if __name__ == \"__main__\":\n",
        "    # Example adjacency matrix for a graph\n",
        "    # 0 - no connection, 1 - connected\n",
        "    adjacency_matrix = [\n",
        "        [0, 1, 1, 1, 0],\n",
        "        [1, 0, 1, 0, 1],\n",
        "        [1, 1, 0, 1, 0],\n",
        "        [1, 0, 1, 0, 1],\n",
        "        [0, 1, 0, 1, 0]\n",
        "    ]\n",
        "\n",
        "    # Number of colors to be used\n",
        "    num_colors = 3\n",
        "\n",
        "    map_coloring = MapColoring(num_colors, adjacency_matrix)\n",
        "    solution = map_coloring.solve()\n",
        "    print_solution(solution)\n"
      ]
    }
  ]
}