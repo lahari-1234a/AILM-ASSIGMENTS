{
  "nbformat": 4,
  "nbformat_minor": 0,
  "metadata": {
    "colab": {
      "provenance": []
    },
    "kernelspec": {
      "name": "python3",
      "display_name": "Python 3"
    },
    "language_info": {
      "name": "python"
    }
  },
  "cells": [
    {
      "cell_type": "code",
      "execution_count": 1,
      "metadata": {
        "colab": {
          "base_uri": "https://localhost:8080/"
        },
        "id": "X3kZU-G0jSaQ",
        "outputId": "48f089b2-01fa-4e32-ca18-ef90128c946f"
      },
      "outputs": [
        {
          "output_type": "stream",
          "name": "stdout",
          "text": [
            "A B C D E F "
          ]
        }
      ],
      "source": [
        "#BFS\n",
        "from collections import deque\n",
        "\n",
        "def bfs(g, s):\n",
        "    q = deque([s])\n",
        "    v = set()\n",
        "    v.add(s)\n",
        "    while q:\n",
        "        n = q.popleft()\n",
        "        print(n, end=\" \")\n",
        "        for i in g[n]:\n",
        "            if i not in v:\n",
        "                v.add(i)\n",
        "                q.append(i)\n",
        "\n",
        "g={'A':['B','C'],'B':['D','E'],'C':['F'],'D':[],'E':[],'F':[]}\n",
        "bfs(g, 'A')\n"
      ]
    },
    {
      "cell_type": "code",
      "source": [
        "#DFS\n",
        "def dfs(g, s):\n",
        "    stack = [s]\n",
        "    v = set()\n",
        "    while stack:\n",
        "        n = stack.pop()\n",
        "        if n not in v:\n",
        "            print(n, end=\" \")\n",
        "            v.add(n)\n",
        "            for i in reversed(g[n]):\n",
        "                if i not in v:\n",
        "                    stack.append(i)\n",
        "\n",
        "g = {'A': ['B', 'C'], 'B': ['D', 'E'], 'C': ['F'],'D':[],'E':[],'F':[]}\n",
        "dfs(g, 'A')\n"
      ],
      "metadata": {
        "colab": {
          "base_uri": "https://localhost:8080/"
        },
        "id": "_3_KSMIJjYlx",
        "outputId": "de82fb01-a7c9-4ed8-eb13-3715176c1bb7"
      },
      "execution_count": 2,
      "outputs": [
        {
          "output_type": "stream",
          "name": "stdout",
          "text": [
            "A B D E C F "
          ]
        }
      ]
    },
    {
      "cell_type": "code",
      "source": [
        "#IDFS\n",
        "from collections import defaultdict\n",
        "\n",
        "class graph:\n",
        "\n",
        "    def __init__(self,vertices):\n",
        "        self.V = vertices\n",
        "        self.graph = defaultdict(list)\n",
        "\n",
        "\n",
        "    def addEdge(self,u,v):\n",
        "        self.graph[u].append(v)\n",
        "\n",
        "    def DLS(self,src,target,maxDepth):\n",
        "\n",
        "        if src == target : return True\n",
        "\n",
        "\n",
        "        if maxDepth <= 0 : return False\n",
        "\n",
        "\n",
        "        for i in self.graph[src]:\n",
        "                if(self.DLS(i,target,maxDepth-1)):\n",
        "                    return True\n",
        "        return False\n",
        "\n",
        "    def IDDFS(self,src, target, maxDepth):\n",
        "\n",
        "        for i in range(maxDepth):\n",
        "            if (self.DLS(src, target, i)):\n",
        "                return True\n",
        "        return False\n",
        "\n",
        "g = graph (7);\n",
        "g.addEdge(0, 1)\n",
        "g.addEdge(0, 2)\n",
        "g.addEdge(1, 3)\n",
        "g.addEdge(1, 4)\n",
        "g.addEdge(2, 5)\n",
        "g.addEdge(2, 6)\n",
        "\n",
        "target = 6; maxDepth = 3; src = 0\n",
        "\n",
        "if g.IDDFS(src, target, maxDepth) == True:\n",
        "    print (\"Target is reachable from source \" +\n",
        "        \"within max depth\")\n",
        "else :\n",
        "    print (\"Target is NOT reachable from source \" +\n",
        "        \"within max depth\")"
      ],
      "metadata": {
        "id": "CBBQSiARjbsj",
        "outputId": "6efb0566-c85a-4d93-bdb3-51310136b0fa",
        "colab": {
          "base_uri": "https://localhost:8080/"
        }
      },
      "execution_count": 3,
      "outputs": [
        {
          "output_type": "stream",
          "name": "stdout",
          "text": [
            "Target is reachable from source within max depth\n"
          ]
        }
      ]
    }
  ]
}