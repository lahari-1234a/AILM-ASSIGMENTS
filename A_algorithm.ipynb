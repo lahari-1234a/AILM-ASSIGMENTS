{
  "nbformat": 4,
  "nbformat_minor": 0,
  "metadata": {
    "colab": {
      "provenance": []
    },
    "kernelspec": {
      "name": "python3",
      "display_name": "Python 3"
    },
    "language_info": {
      "name": "python"
    }
  },
  "cells": [
    {
      "cell_type": "code",
      "execution_count": null,
      "metadata": {
        "id": "BBXLWw1Bla7e"
      },
      "outputs": [],
      "source": [
        "import heapq\n",
        "\n",
        "def a_star_search(graph, start, goal, heuristic):\n",
        "\n",
        "    priority_queue = [(0 + heuristic[start], 0, start, [])]\n",
        "    visited = set()\n",
        "    cost_so_far = {start: 0}\n",
        "\n",
        "    while priority_queue:\n",
        "\n",
        "        f, g, current_node, path = heapq.heappop(priority_queue)\n",
        "\n",
        "\n",
        "        if current_node == goal:\n",
        "            return path + [current_node], g\n",
        "\n",
        "\n",
        "        if current_node in visited:\n",
        "            continue\n",
        "\n",
        "\n",
        "        visited.add(current_node)\n",
        "\n",
        "\n",
        "        path = path + [current_node]\n",
        "\n",
        "\n",
        "        for neighbor, cost in graph.get(current_node, []):\n",
        "            new_cost = g + cost\n",
        "\n",
        "            if neighbor not in cost_so_far or new_cost < cost_so_far[neighbor]:\n",
        "                cost_so_far[neighbor] = new_cost\n",
        "                priority = new_cost + heuristic[neighbor]\n",
        "                heapq.heappush(priority_queue, (priority, new_cost, neighbor, path))\n",
        "\n",
        "    return None, float('inf')\n",
        "\n",
        "\n",
        "graph = {\n",
        "    'A': [('B', 1), ('C', 4)],\n",
        "    'B': [('D', 2), ('E', 5)],\n",
        "    'C': [('F', 3)],\n",
        "    'D': [],\n",
        "    'E': [('F', 1)],\n",
        "    'F': []\n",
        "}\n",
        "\n",
        "\n",
        "heuristic = {\n",
        "    'A': 6,\n",
        "    'B': 4,\n",
        "    'C': 2,\n",
        "    'D': 4,\n",
        "    'E': 2,\n",
        "    'F': 0\n",
        "}\n",
        "\n",
        "path, cost = a_star_search(graph, 'A', 'F', heuristic)\n",
        "print(f\"Path: {path}, Cost: {cost}\")\n"
      ]
    }
  ]
}