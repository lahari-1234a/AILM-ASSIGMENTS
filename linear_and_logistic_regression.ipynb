{
  "nbformat": 4,
  "nbformat_minor": 0,
  "metadata": {
    "colab": {
      "provenance": []
    },
    "kernelspec": {
      "name": "python3",
      "display_name": "Python 3"
    },
    "language_info": {
      "name": "python"
    }
  },
  "cells": [
    {
      "cell_type": "code",
      "execution_count": null,
      "metadata": {
        "id": "uOuAbjM2kQUJ"
      },
      "outputs": [],
      "source": [
        "import numpy as np\n",
        "import pandas as pd\n",
        "from sklearn.model_selection import train_test_split\n",
        "from sklearn.linear_model import LinearRegression\n",
        "import matplotlib.pyplot as plt\n",
        "\n",
        "# Sample Data\n",
        "# Let's create a simple dataset\n",
        "data = {\n",
        "    'X': [1, 2, 3, 4, 5],\n",
        "    'y': [2, 3, 5, 7, 11]\n",
        "}\n",
        "df = pd.DataFrame(data)\n",
        "\n",
        "# Split the data into features and target\n",
        "X = df[['X']]  # Features\n",
        "y = df['y']    # Target\n",
        "\n",
        "# Split the dataset into training and testing sets\n",
        "X_train, X_test, y_train, y_test = train_test_split(X, y, test_size=0.2, random_state=42)\n",
        "\n",
        "# Create a Linear Regression model\n",
        "model = LinearRegression()\n",
        "\n",
        "# Fit the model\n",
        "model.fit(X_train, y_train)\n",
        "\n",
        "# Make predictions\n",
        "y_pred = model.predict(X_test)\n",
        "\n",
        "# Print the coefficients\n",
        "print(\"Coefficient:\", model.coef_)\n",
        "print(\"Intercept:\", model.intercept_)\n",
        "\n",
        "# Plotting\n",
        "plt.scatter(X, y, color='blue', label='Data Points')\n",
        "plt.plot(X_test, y_pred, color='red', label='Regression Line')\n",
        "plt.xlabel('X')\n",
        "plt.ylabel('y')\n",
        "plt.title('Linear Regression')\n",
        "plt.legend()\n",
        "plt.show()\n"
      ]
    },
    {
      "cell_type": "code",
      "source": [
        "import numpy as np\n",
        "import pandas as pd\n",
        "from sklearn.model_selection import train_test_split\n",
        "from sklearn.linear_model import LogisticRegression\n",
        "from sklearn.metrics import confusion_matrix, accuracy_score\n",
        "import matplotlib.pyplot as plt\n",
        "\n",
        "data = {\n",
        "    'Feature1': [0.1, 0.4, 0.5, 0.7, 0.9, 1.0],\n",
        "    'Feature2': [0, 0, 1, 1, 1, 1],\n",
        "}\n",
        "df = pd.DataFrame(data)\n",
        "\n",
        "\n",
        "X = df[['Feature1']]  # Features\n",
        "y = df['Feature2']    # Target (0 or 1)\n",
        "\n",
        "X_train, X_test, y_train, y_test = train_test_split(X, y, test_size=0.2, random_state=42)\n",
        "\n",
        "\n",
        "model = LogisticRegression()\n",
        "\n",
        "\n",
        "model.fit(X_train, y_train)\n",
        "\n",
        "# Make predictions\n",
        "y_pred = model.predict(X_test)\n",
        "\n",
        "# Print the accuracy\n",
        "print(\"Accuracy:\", accuracy_score(y_test, y_pred))\n",
        "\n",
        "# Confusion Matrix\n",
        "cm = confusion_matrix(y_test, y_pred)\n",
        "print(\"Confusion Matrix:\\n\", cm)\n",
        "\n",
        "# Plotting decision boundary\n",
        "plt.scatter(X_train, y_train, color='blue', label='Training Data')\n",
        "plt.scatter(X_test, y_test, color='green', label='Testing Data')\n",
        "x_values = np.linspace(0, 1, 100).reshape(-1, 1)\n",
        "y_values = model.predict(x_values)\n",
        "plt.plot(x_values, y_values, color='red', label='Decision Boundary')\n",
        "plt.xlabel('Feature1')\n",
        "plt.ylabel('Probability')\n",
        "plt.title('Logistic Regression')\n",
        "plt.legend()\n",
        "plt.show()\n"
      ],
      "metadata": {
        "id": "7FP0ZvJLkTGu"
      },
      "execution_count": null,
      "outputs": []
    }
  ]
}